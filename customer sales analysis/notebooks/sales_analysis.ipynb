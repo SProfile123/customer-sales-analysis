
{
 "cells": [
  {
   "cell_type": "markdown",
   "metadata": {},
   "source": [
    "# Customer Sales Analysis\n",
    "This notebook performs data extraction, transformation, and visualization of customer sales data."
   ]
  },
  {
   "cell_type": "code",
   "execution_count": null,
   "metadata": {},
   "outputs": [],
   "source": [
    "import pandas as pd\n",
    "import matplotlib.pyplot as plt\n",
    "import seaborn as sns\n",
    "\n",
    "# Load dataset\n",
    "df = pd.read_csv('../data/merged_customer_sales.csv')\n",
    "print(df.head())\n",
    "\n",
    "# Sales trend\n",
    "df['Order_Date'] = pd.to_datetime(df['Order_Date'])\n",
    "df.set_index('Order_Date')['Sales_Amount'].resample('W').sum().plot(title='Weekly Sales')\n",
    "plt.ylabel('Sales Amount')\n",
    "plt.show()"
   ]
  }
 ],
 "metadata": {
  "kernelspec": {
   "display_name": "Python 3",
   "language": "python",
   "name": "python3"
  },
  "language_info": {
   "name": "python",
   "version": "3.10"
  }
 },
 "nbformat": 4,
 "nbformat_minor": 5
}
